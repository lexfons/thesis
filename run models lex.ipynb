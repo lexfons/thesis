{
 "cells": [
  {
   "cell_type": "code",
   "execution_count": 1,
   "metadata": {},
   "outputs": [],
   "source": [
    "#from keras.models import load_model\n",
    "import json\n",
    "from LJT_database.feature_prep import feature_preperation\n",
    "from LJT_database.merge_dataset import retrieve_data_predictors\n",
    "from LJT_helper_functions.dataset_prep import prepare_dataset_prediction\n",
    "import warnings\n",
    "from deep_learning_models.training_models import build_model\n",
    "from deep_learning_models.feature_selection import make_components_pca\n",
    "import sys\n",
    "from LJT_database.firestore_codes import  add_update,retrieve_updates\n",
    "import platform\n",
    "from LJT_helper_functions.helpers import send_message_telegram, convert_datatype\n",
    "from LJT_database.merge_dataset import retrieve_data_predictors\n",
    "from LJT_database.update_table import insert_rows\n",
    "from LJT_database.feature_prep import feature_preperation\n",
    "import pandas as pd\n",
    "warnings.filterwarnings('ignore')"
   ]
  },
  {
   "cell_type": "code",
   "execution_count": 3,
   "metadata": {},
   "outputs": [],
   "source": [
    "dataset_prepared = pd.read_csv(\"data_lex.csv\")"
   ]
  },
  {
   "cell_type": "code",
   "execution_count": 4,
   "metadata": {},
   "outputs": [],
   "source": [
    "dataset_prepared = dataset_prepared[[col for col in dataset_prepared.columns if col != 'close_price_next_min']]"
   ]
  },
  {
   "cell_type": "code",
   "execution_count": null,
   "metadata": {},
   "outputs": [],
   "source": []
  },
  {
   "cell_type": "code",
   "execution_count": 5,
   "metadata": {},
   "outputs": [],
   "source": [
    "general_settings={\n",
    "                    'coin': 'ETHBTC',\n",
    "                    'bins': True,\n",
    "                    'training_size': 0.8,\n",
    "                    'algorithm': 'LSTM',\n",
    "                    'include_transaction_cost': False,\n",
    "                    'minutes_lookback':0\n",
    "                 }"
   ]
  },
  {
   "cell_type": "code",
   "execution_count": 6,
   "metadata": {},
   "outputs": [
    {
     "data": {
      "text/plain": [
       "344"
      ]
     },
     "execution_count": 6,
     "metadata": {},
     "output_type": "execute_result"
    }
   ],
   "source": [
    "general_settings['columns'] = dataset_prepared.columns\n",
    "general_settings['experiment_date'] =\"lex_testertje_38\" #let op met deze aanpassen. Graag niets wat dag_maand zegt tussen 20_05 / 15_06\n",
    "len(dataset_prepared.columns)"
   ]
  },
  {
   "cell_type": "code",
   "execution_count": 7,
   "metadata": {},
   "outputs": [
    {
     "data": {
      "text/plain": [
       "\"\\nfrom deep_learning_models.feature_selection import make_components_pca\\nmake_components_pca(dataset_prepared,\\n                    general_settings,\\n                    percentage_variance=.99,\\n                    type_scaler='min_max_scaler',\\n                    min_cor=0.4) #deze is handmatig uitgezet no stress:) \\n\""
      ]
     },
     "execution_count": 7,
     "metadata": {},
     "output_type": "execute_result"
    }
   ],
   "source": [
    "#only run once or when updating stuff in dataset etc. Pca, normalizer, etc are stored in Storage\n",
    "\"\"\"\n",
    "from deep_learning_models.feature_selection import make_components_pca\n",
    "make_components_pca(dataset_prepared,\n",
    "                    general_settings,\n",
    "                    percentage_variance=.99,\n",
    "                    type_scaler='min_max_scaler',\n",
    "                    min_cor=0.4) #deze is handmatig uitgezet no stress:) \n",
    "\"\"\""
   ]
  },
  {
   "cell_type": "code",
   "execution_count": 8,
   "metadata": {},
   "outputs": [
    {
     "name": "stdout",
     "output_type": "stream",
     "text": [
      "Blob ethbtc/lex_testertje_38_scaler.p downloaded to temp_store/ethbtc/lex_testertje_38_scaler.p.\n",
      "Blob ethbtc/lex_testertje_38_pca.p downloaded to temp_store/ethbtc/lex_testertje_38_pca.p.\n",
      "Blob ethbtc/lex_testertje_38_columns_scaler.p downloaded to temp_store/ethbtc/lex_testertje_38_columns_scaler.p.\n",
      "Blob ethbtc/lex_testertje_38_columns_in_pca.p downloaded to temp_store/ethbtc/lex_testertje_38_columns_in_pca.p.\n"
     ]
    }
   ],
   "source": [
    "from deep_learning_models.feature_selection import create_reduced_features\n",
    "df = create_reduced_features(dataset_prepared,general_settings)"
   ]
  },
  {
   "cell_type": "code",
   "execution_count": 9,
   "metadata": {},
   "outputs": [],
   "source": [
    "settings_analysis = {\n",
    "    \"algoirthm\":\"LSTM\",\n",
    "    \"experiment_date\":\"11_6\",\n",
    "    \"neurons\":75,\n",
    "    \"dropout\":0.37644318657738224,\n",
    "    \"loss_func\": \"binary_crossentropy\",\n",
    "    \"activation_function\":\"softmax\",\n",
    "    \"number_layers\":1,\n",
    "    \"batch_size\":2520,\n",
    "    \"epochs\":500,\n",
    "    \"bidrectional\":False,\n",
    "    \"window_size\":113,\n",
    "    \"time_ahead_prediction\":1,\n",
    "    \"optimizer\":'adam',\n",
    "    \"learning_rate\": 0.000526661,\n",
    "}"
   ]
  },
  {
   "cell_type": "code",
   "execution_count": 10,
   "metadata": {},
   "outputs": [
    {
     "name": "stderr",
     "output_type": "stream",
     "text": [
      "Using TensorFlow backend.\n"
     ]
    },
    {
     "name": "stdout",
     "output_type": "stream",
     "text": [
      "---------------------------------NEW EXPERIMENT -----------------------------------------------\n",
      "current time: 2:0\n",
      "--data--\n",
      "length training data =  55773\n",
      "percentage True train = 0.4805909669553368\n",
      "length test data =  13944\n",
      "percentage True test = 0.4776247848537005\n",
      "highest_val_ac 0.5231640934944153\n",
      "{'sensitivity': 0.0867867867867868, 'specificity': 0.9221581548599671, 'precision': 0.5048034934497817, 'accuracy': 0.5231640849110729, 'f_1': 0.14811018577834723}\n",
      "Running time  0:12:59.276020\n"
     ]
    }
   ],
   "source": [
    "model = build_model(settings_analysis,general_settings,df,save_model=True,normalized=True)\n",
    "model.save(\"model_lex.h5\")"
   ]
  },
  {
   "cell_type": "code",
   "execution_count": null,
   "metadata": {},
   "outputs": [],
   "source": []
  },
  {
   "cell_type": "code",
   "execution_count": null,
   "metadata": {},
   "outputs": [],
   "source": []
  }
 ],
 "metadata": {
  "kernelspec": {
   "display_name": "Python 3",
   "language": "python",
   "name": "python3"
  },
  "language_info": {
   "codemirror_mode": {
    "name": "ipython",
    "version": 3
   },
   "file_extension": ".py",
   "mimetype": "text/x-python",
   "name": "python",
   "nbconvert_exporter": "python",
   "pygments_lexer": "ipython3",
   "version": "3.7.6"
  }
 },
 "nbformat": 4,
 "nbformat_minor": 4
}
