{
 "cells": [
  {
   "cell_type": "markdown",
   "metadata": {},
   "source": [
    "## imports"
   ]
  },
  {
   "cell_type": "code",
   "execution_count": 14,
   "metadata": {},
   "outputs": [],
   "source": [
    "import numpy as np\n",
    "import pandas as pd\n",
    "import copy"
   ]
  },
  {
   "cell_type": "code",
   "execution_count": 15,
   "metadata": {},
   "outputs": [],
   "source": [
    "def write_as_log(title,data):\n",
    "    '''\n",
    "    Function can be used to write a log in the logs folder. \n",
    "    Data has to be an array \n",
    "    '''\n",
    "    with open(f'results/Combining/{title}.txt','w') as temp:\n",
    "        if type(data) == list:\n",
    "            for row in data:\n",
    "                temp.write(str(row))\n",
    "                temp.write('\\n')"
   ]
  },
  {
   "cell_type": "markdown",
   "metadata": {},
   "source": [
    "## optimal greedy clustering"
   ]
  },
  {
   "cell_type": "code",
   "execution_count": 16,
   "metadata": {},
   "outputs": [],
   "source": [
    "# laad omvormer\n",
    "omvormer = np.load('omvormer.npy',allow_pickle='TRUE').item()\n",
    "\n",
    "#load optimal greedy cautious threshold 0.8 --> greedy optimization 0.7\n",
    "optimal = np.load(\"C://Users//lexfo//PycharmProjects//thesis_lex//results//Clustering//optimal_greedy.npy\",allow_pickle='TRUE')\n",
    "best_greedy_clustering = []\n",
    "for i in range(len(optimal)):\n",
    "    best_greedy_clustering.append(optimal[i])"
   ]
  },
  {
   "cell_type": "code",
   "execution_count": 17,
   "metadata": {},
   "outputs": [],
   "source": [
    "clusters_omgevormd = [] \n",
    "for i in range(len(best_greedy_clustering)):\n",
    "    clusters_omgevormd.append([omvormer.get(item,item) for item in best_greedy_clustering[i]])\n",
    "# clusters_omgevormd"
   ]
  },
  {
   "cell_type": "code",
   "execution_count": 27,
   "metadata": {},
   "outputs": [],
   "source": [
    "dataframe_best_greedy = pd.DataFrame.from_records(clusters_omgevormd)\n"
   ]
  },
  {
   "cell_type": "markdown",
   "metadata": {},
   "source": [
    "<br>\n",
    "<br>\n",
    "<br>\n",
    "<br>\n",
    "<br><br>\n",
    "<br>\n",
    "<br>\n",
    "<br>\n",
    "<br><br>\n",
    "<br>\n",
    "<br>\n",
    "<br>\n",
    "<br>"
   ]
  },
  {
   "cell_type": "markdown",
   "metadata": {},
   "source": [
    "## Open feature selection techniques"
   ]
  },
  {
   "cell_type": "markdown",
   "metadata": {},
   "source": [
    "#### SVC-RFE"
   ]
  },
  {
   "cell_type": "code",
   "execution_count": 79,
   "metadata": {},
   "outputs": [],
   "source": [
    "SVC_RFE = pd.read_csv('results/Feature_importance_ranking/SVC_RFE_Ranking.csv')\n",
    "svc_rfe_Ranking = list(SVC_RFE['var'])"
   ]
  },
  {
   "cell_type": "markdown",
   "metadata": {},
   "source": [
    "#### RF-RFE"
   ]
  },
  {
   "cell_type": "code",
   "execution_count": 67,
   "metadata": {
    "scrolled": true
   },
   "outputs": [],
   "source": [
    "RF_RFE = pd.read_csv('results/Feature_importance_ranking/RE_RFE_Ranking.csv')\n",
    "rf_rfe_Ranking = list(RF_RFE['var'])"
   ]
  },
  {
   "cell_type": "markdown",
   "metadata": {},
   "source": [
    "#### Boruta"
   ]
  },
  {
   "cell_type": "code",
   "execution_count": 127,
   "metadata": {},
   "outputs": [],
   "source": [
    "Boruta = pd.read_csv('results/Feature_importance_ranking/Boruta_Ranking.csv')\n",
    "Boruta.rename(columns={'Unnamed: 0':'var'}, inplace=True)\n",
    "Boruta = Boruta.sort_values(by=['meanImp'], ascending = False)\n",
    "Boruta = Boruta.reset_index(drop=True)\n",
    "Boruta_Ranking = list(Boruta['var'])"
   ]
  },
  {
   "cell_type": "markdown",
   "metadata": {},
   "source": [
    "#### XGBoost"
   ]
  },
  {
   "cell_type": "code",
   "execution_count": 68,
   "metadata": {},
   "outputs": [],
   "source": [
    "XGBoost = pd.read_csv('results/Feature_importance_ranking/XGBoost_ranking_rerun.csv')\n",
    "XGBoost_ranking = list(XGBoost['var'])"
   ]
  },
  {
   "cell_type": "markdown",
   "metadata": {},
   "source": [
    "<br>\n",
    "<br>\n",
    "<br>\n",
    "<br>\n",
    "<br><br>\n",
    "<br>\n",
    "<br>\n",
    "<br>\n",
    "<br><br>\n",
    "<br>\n",
    "<br>\n",
    "<br>\n",
    "<br><br>\n",
    "<br>\n",
    "<br>\n",
    "<br>\n",
    "<br>"
   ]
  },
  {
   "cell_type": "markdown",
   "metadata": {},
   "source": [
    "## combine clustering with feature ranking"
   ]
  },
  {
   "cell_type": "code",
   "execution_count": 7,
   "metadata": {},
   "outputs": [],
   "source": [
    "def pick_1_per_cluster(dataframe_kluster,features):\n",
    "    nieuwe = copy.deepcopy(dataframe_kluster)\n",
    "    xgboost = features\n",
    "    row_selected = []\n",
    "    final_columns = []\n",
    "    deleted_indexen = [] \n",
    "    counter = 0\n",
    "    for j in xgboost:\n",
    "        counter += 1 \n",
    "        for i in range(len(nieuwe)):\n",
    "            if i in row_selected: \n",
    "                pass\n",
    "            elif j in nieuwe.loc[i].values:\n",
    "                row_selected.append(i)\n",
    "                print(i,j,counter)\n",
    "                xgboost = [feature for feature in xgboost if feature not in nieuwe.loc[i].values]\n",
    "                nieuwe.iloc[i].values[:] = 0\n",
    "                final_columns.append(j)\n",
    "            else: \n",
    "                pass\n",
    "    return final_columns"
   ]
  },
  {
   "cell_type": "code",
   "execution_count": 31,
   "metadata": {},
   "outputs": [],
   "source": [
    "def combine_ranking_with_clustering(best_clustering, name_of_fs_technique, feature_selection_ranking,top_x_of_ranking=0):\n",
    "    if top_x_of_ranking > 1:\n",
    "        ranking = feature_selection_ranking[:top_x_of_ranking]\n",
    "        final_columns_after_combining = pick_1_per_cluster(best_clustering,ranking)\n",
    "#         write_as_log(f'{name_of_fs_technique}_and_clustering_top_{top_x_of_ranking}', final_columns_after_combining)\n",
    "        return final_columns_after_combining\n",
    "    else:\n",
    "        ranking = feature_selection_ranking\n",
    "        final_columns_after_combining = pick_1_per_cluster(best_clustering,ranking)\n",
    "#         write_as_log(f'{name_of_fs_technique}_and_clustering_total', final_columns_after_combining)\n",
    "        return final_columns_after_combining"
   ]
  },
  {
   "cell_type": "markdown",
   "metadata": {},
   "source": [
    "#### SVM-RFE"
   ]
  },
  {
   "cell_type": "code",
   "execution_count": 82,
   "metadata": {
    "collapsed": true
   },
   "outputs": [
    {
     "name": "stdout",
     "output_type": "stream",
     "text": [
      "1 ETHBTC__ticker_info__open 1\n",
      "11 ETHBTC__technical_analysis_candles__macd 2\n",
      "5 ETHBTC__ticker_info__quote_asset_volume 7\n",
      "98 general_info__biggest_coin_streamer__BUSDUSDT 8\n",
      "111 general_info__biggest_coin_streamer__ONTUSDT 14\n",
      "93 general_info__exchange_info__Mexican_Peso 16\n",
      "32 ETHBTC__ticker_info__number_trades 18\n",
      "12 BTC__events_aggregator__NumSources_7_days 19\n",
      "23 general_info__events_aggregator__NumSources_7_days 21\n",
      "112 general_info__biggest_coin_streamer__XLMBTC 22\n",
      "73 ETH__twitter_info_aggregated__total_followers 23\n",
      "109 general_info__stock_exchange_index__KOSPI_Composite_Index 24\n",
      "88 ETH__events_aggregator__GoldsteinScale_7_days 26\n",
      "75 BTC__events_aggregator__NumMentions_1_hour 30\n",
      "114 general_info__biggest_coin_streamer__ATOMUSDT 32\n",
      "26 general_info__hash_rate_streamer_bitcoin__btc_sent_24 38\n",
      "78 general_info__twitter_info_aggregated__polarity_uncleaned 39\n",
      "97 general_info__events_aggregator__count_7_days 40\n",
      "34 general_info__biggest_coin_streamer__WAVESBTC 43\n",
      "103 general_info__biggest_coin_streamer__TRXBTC 47\n",
      "69 BTC__events_aggregator__GoldsteinScale_7_days 49\n",
      "87 ETH__events_aggregator__GoldsteinScale_1_hour 51\n",
      "77 general_info__biggest_coin_streamer__BTCTUSD 54\n",
      "108 ETH__events_aggregator__count_7_days 58\n",
      "53 BTC__twitter_info_aggregated__count 59\n",
      "46 general_info__econ_bitcoin_aggregator__V2Tone_2_7_days 61\n",
      "4 general_info__biggest_coin_streamer__EOSBTC 63\n",
      "63 general_info__biggest_coin_streamer__CVCBTC 65\n",
      "64 ETH__events_aggregator__NumMentions_8_hour 66\n",
      "44 general_info__twitter_info_aggregated__total_friends 69\n",
      "37 general_info__twitter_info_aggregated__relative_polarity_friends 70\n",
      "85 ETH__twitter_info_aggregated__relative_polarity_followers 88\n",
      "90 general_info__econ_bitcoin_aggregator__V2Tone_4_7_days 89\n",
      "29 general_info__econ_bitcoin_aggregator__count_7_days 92\n",
      "65 BTC__events_aggregator__count_24_hour 99\n",
      "99 general_info__biggest_coin_streamer__BEARUSDT 100\n",
      "21 ETH__events_aggregator__count_1_hour 101\n",
      "47 ETH__events_aggregator__AvgTone_7_days 105\n",
      "89 general_info__biggest_coin_streamer__DASHBTC 107\n",
      "80 ETH__events_aggregator__count_24_hour 109\n",
      "42 general_info__events_aggregator__GoldsteinScale_8_hour 111\n",
      "0 general_info__twitter_info_aggregated__total_followers 112\n",
      "86 general_info__econ_bitcoin_aggregator__V2Tone_3_7_days 115\n",
      "36 BTC__events_aggregator__NumArticles_24_hour 116\n",
      "113 general_info__econ_bitcoin_aggregator__V2Tone_5_8_hour 119\n",
      "110 general_info__econ_bitcoin_aggregator__V2Tone_6_8_hour 120\n",
      "3 general_info__events_aggregator__NumMentions_1_hour 122\n",
      "107 general_info__econ_bitcoin_aggregator__V2Tone_2_24_hour 127\n",
      "38 BTC__events_aggregator__count_8_hour 128\n",
      "2 ETH__events_aggregator__NumSources_1_hour 129\n",
      "28 general_info__events_aggregator__count_1_hour 130\n",
      "52 general_info__twitter_info_aggregated__relative_subjectivity_followers 132\n",
      "49 general_info__biggest_coin_streamer__MATICBTC 135\n",
      "45 general_info__events_aggregator__AvgTone_1_hour 137\n",
      "96 ETH__twitter_info_aggregated__count 138\n",
      "55 general_info__econ_bitcoin_aggregator__V2Tone_3_24_hour 140\n",
      "48 BTC__twitter_info_aggregated__relative_polarity_followers 142\n",
      "9 BTC__twitter_info_aggregated__polarity_uncleaned 145\n",
      "95 general_info__events_aggregator__NumMentions_8_hour 146\n",
      "41 general_info__biggest_coin_streamer__XEMBTC 148\n",
      "16 general_info__econ_bitcoin_aggregator__V2Tone_1_8_hour 150\n",
      "83 BTC__twitter_info_aggregated__total_friends 151\n",
      "100 BTC__twitter_info_aggregated__relative_subjectivity_friends 152\n",
      "56 general_info__hash_rate_ethereum__gasLimit 153\n",
      "105 general_info__exchange_info__Lumens 155\n",
      "60 ETH__events_aggregator__NumMentions_7_days 158\n",
      "13 general_info__events_aggregator__NumMentions_7_days 166\n",
      "61 general_info__events_aggregator__AvgTone_8_hour 169\n",
      "39 general_info__hash_rate_ethereum__difficulty 171\n",
      "40 ETH__events_aggregator__count_8_hour 173\n",
      "31 general_info__hash_rate_ethereum__gasUsed 175\n",
      "25 general_info__events_aggregator__NumMentions_24_hour 177\n",
      "101 general_info__biggest_coin_streamer__XTZUSDT 178\n",
      "91 general_info__biggest_coin_streamer__TCTBTC 183\n",
      "24 BTC__events_aggregator__AvgTone_1_hour 184\n",
      "66 ETH__events_aggregator__GoldsteinScale_24_hour 185\n",
      "15 general_info__events_aggregator__GoldsteinScale_1_hour 187\n",
      "106 general_info__econ_bitcoin_aggregator__V2Tone_1_1_hour 188\n",
      "57 BTC__twitter_info_aggregated__relative_subjectivity_followers 191\n",
      "7 ETH__events_aggregator__NumSources_24_hour 193\n",
      "67 ETH__twitter_info_aggregated__relative_subjectivity_friends 194\n",
      "30 ETHBTC__general_info__total_volume 199\n",
      "82 general_info__econ_bitcoin_aggregator__V2Tone_2_1_hour 204\n",
      "10 ETH__twitter_info_aggregated__relative_subjectivity_followers 205\n",
      "68 ETH__twitter_info_aggregated__relative_polarity_friends 206\n",
      "33 BTC__events_aggregator__GoldsteinScale_8_hour 207\n",
      "84 ETH__events_aggregator__AvgTone_24_hour 208\n",
      "22 general_info__econ_bitcoin_aggregator__count_24_hour 211\n",
      "58 general_info__twitter_info_aggregated__count 214\n",
      "92 general_info__events_aggregator__GoldsteinScale_24_hour 218\n",
      "35 ETH__events_aggregator__AvgTone_8_hour 221\n",
      "102 ETH__events_aggregator__AvgTone_1_hour 227\n",
      "62 general_info__biggest_coin_streamer__ENJBTC 230\n",
      "8 general_info__biggest_coin_streamer__GNTBTC 235\n",
      "20 general_info__hash_rate_streamer_bitcoin__unconfirmed_count 237\n",
      "18 general_info__stock_exchange_index__MERVAL 240\n",
      "54 general_info__biggest_coin_streamer__LENDBTC 241\n",
      "104 general_info__biggest_coin_streamer__CHZBTC 242\n",
      "72 general_info__hash_rate_streamer_bitcoin__estimated_hash_rate 244\n",
      "71 BTC__events_aggregator__GoldsteinScale_1_hour 246\n",
      "17 BTC__events_aggregator__AvgTone_24_hour 254\n",
      "59 general_info__twitter_info_aggregated__relative_polarity_followers 261\n",
      "14 general_info__econ_bitcoin_aggregator__V2Tone_2_8_hour 265\n",
      "51 ETH__twitter_info_aggregated__polarity_self_cleaned 271\n",
      "76 BTC__twitter_info_aggregated__relative_polarity_friends 275\n",
      "74 ETH__events_aggregator__GoldsteinScale_8_hour 283\n",
      "81 ETH__events_aggregator__NumSources_7_days 288\n",
      "70 general_info__biggest_coin_streamer__DGDETH 293\n",
      "79 ETHBTC__ticker_info__askQty 294\n",
      "27 BTC__events_aggregator__NumMentions_7_days 295\n",
      "94 general_info__econ_bitcoin_aggregator__V2Tone_6_7_days 305\n",
      "6 BTC__events_aggregator__NumArticles_7_days 307\n",
      "43 general_info__econ_bitcoin_aggregator__V2Tone_5_7_days 314\n",
      "50 BTC__twitter_info_aggregated__total_followers 318\n",
      "19 ETHBTC__technical_analysis_candles__macdhist 343\n",
      "115\n"
     ]
    }
   ],
   "source": [
    "final_svc_rfe = combine_ranking_with_clustering(dataframe_best_greedy, 'svc_rfe', svc_rfe_Ranking)\n",
    "print(len(final_rf_rfe))"
   ]
  },
  {
   "cell_type": "code",
   "execution_count": 83,
   "metadata": {},
   "outputs": [],
   "source": [
    "final_columns_svc_rfe = SVC_RFE[~SVC_RFE['var'].isin(final_svc_rfe) == False]"
   ]
  },
  {
   "cell_type": "code",
   "execution_count": 84,
   "metadata": {},
   "outputs": [],
   "source": [
    "final_columns_svc_rfe = final_columns_svc_rfe.reset_index(drop=True)"
   ]
  },
  {
   "cell_type": "code",
   "execution_count": 86,
   "metadata": {},
   "outputs": [],
   "source": [
    "# final_columns_svc_rfe.to_csv(r'results/Combining/final_columns_svc_rfe.csv', index = False)"
   ]
  },
  {
   "cell_type": "markdown",
   "metadata": {},
   "source": [
    "#### RF-RFE"
   ]
  },
  {
   "cell_type": "code",
   "execution_count": 55,
   "metadata": {
    "collapsed": true
   },
   "outputs": [
    {
     "name": "stdout",
     "output_type": "stream",
     "text": [
      "89 ETHBTC__technical_analysis_candles__rsi 1\n",
      "19 ETHBTC__technical_analysis_candles__macdhist 2\n",
      "11 ETHBTC__technical_analysis_candles__macd 3\n",
      "5 ETHBTC__ticker_info__taker_buy_asset_volume 4\n",
      "32 ETHBTC__ticker_info__number_trades 9\n",
      "79 ETHBTC__ticker_info__askQty 10\n",
      "103 ETHBTC__ticker_info__bidQty 11\n",
      "10 ETH__twitter_info_aggregated__relative_subjectivity_followers 12\n",
      "86 general_info__twitter_info_aggregated__relative_subjectivity_friends 13\n",
      "48 BTC__twitter_info_aggregated__relative_polarity_followers 14\n",
      "85 ETH__twitter_info_aggregated__relative_polarity_followers 15\n",
      "73 ETH__twitter_info_aggregated__total_followers 16\n",
      "57 BTC__twitter_info_aggregated__relative_subjectivity_followers 17\n",
      "52 general_info__twitter_info_aggregated__relative_subjectivity_followers 18\n",
      "51 ETH__twitter_info_aggregated__polarity_self_cleaned 19\n",
      "76 BTC__twitter_info_aggregated__relative_polarity_friends 20\n",
      "59 general_info__twitter_info_aggregated__relative_polarity_followers 21\n",
      "31 general_info__hash_rate_ethereum__gasUsed 22\n",
      "67 ETH__twitter_info_aggregated__relative_subjectivity_friends 23\n",
      "8 ETH__twitter_info_aggregated__total_friends 24\n",
      "65 general_info__hash_rate_ethereum__size 25\n",
      "78 general_info__twitter_info_aggregated__polarity_self_cleaned 26\n",
      "68 ETH__twitter_info_aggregated__relative_polarity_friends 27\n",
      "9 BTC__twitter_info_aggregated__polarity_uncleaned 28\n",
      "100 BTC__twitter_info_aggregated__relative_subjectivity_friends 29\n",
      "37 general_info__twitter_info_aggregated__relative_polarity_friends 30\n",
      "88 ETH__twitter_info_aggregated__polarity_uncleaned 31\n",
      "0 general_info__twitter_info_aggregated__total_followers 32\n",
      "50 BTC__twitter_info_aggregated__total_followers 33\n",
      "83 BTC__twitter_info_aggregated__total_friends 35\n",
      "44 general_info__twitter_info_aggregated__total_friends 36\n",
      "56 general_info__hash_rate_ethereum__gasLimit 39\n",
      "1 ETHBTC__ticker_info__open 40\n",
      "58 general_info__twitter_info_aggregated__count 41\n",
      "53 BTC__twitter_info_aggregated__count 42\n",
      "96 ETH__twitter_info_aggregated__count 43\n",
      "39 general_info__hash_rate_ethereum__difficulty 44\n",
      "74 general_info__biggest_coin_streamer__ETHBTC 47\n",
      "93 general_info__biggest_coin_streamer__LINKUSDT 49\n",
      "101 general_info__biggest_coin_streamer__XTZUSDT 50\n",
      "97 general_info__biggest_coin_streamer__XTZBTC 51\n",
      "30 general_info__econ_bitcoin_aggregator__V2Tone_6_1_hour 54\n",
      "109 general_info__biggest_coin_streamer__BNBBTC 55\n",
      "20 general_info__hash_rate_streamer_bitcoin__unconfirmed_count 56\n",
      "23 ETHBTC__general_info__price_change_24h 57\n",
      "114 general_info__biggest_coin_streamer__ETCBTC 59\n",
      "62 general_info__biggest_coin_streamer__ENJBTC 60\n",
      "106 general_info__econ_bitcoin_aggregator__V2Tone_1_1_hour 61\n",
      "98 general_info__biggest_coin_streamer__TUSDUSDT 63\n",
      "82 general_info__econ_bitcoin_aggregator__V2Tone_2_1_hour 64\n",
      "113 general_info__econ_bitcoin_aggregator__V2Tone_3_1_hour 69\n",
      "72 general_info__hash_rate_streamer_bitcoin__time_between_blocks 70\n",
      "111 general_info__biggest_coin_streamer__ZECBTC 76\n",
      "34 general_info__biggest_coin_streamer__WAVESBTC 79\n",
      "92 general_info__biggest_coin_streamer__BATBTC 83\n",
      "77 general_info__biggest_coin_streamer__XMRBTC 84\n",
      "26 general_info__hash_rate_streamer_bitcoin__btc_sent_24 85\n",
      "4 general_info__biggest_coin_streamer__EOSBTC 87\n",
      "104 general_info__exchange_info__XRP 89\n",
      "110 general_info__econ_bitcoin_aggregator__V2Tone_6_8_hour 96\n",
      "99 general_info__biggest_coin_streamer__XRPBTC 101\n",
      "70 general_info__biggest_coin_streamer__DGDETH 102\n",
      "14 general_info__econ_bitcoin_aggregator__V2Tone_2_8_hour 110\n",
      "84 general_info__biggest_coin_streamer__IOTABTC 112\n",
      "49 general_info__biggest_coin_streamer__BTGBTC 113\n",
      "16 general_info__econ_bitcoin_aggregator__V2Tone_1_8_hour 120\n",
      "105 general_info__exchange_info__Lumens 125\n",
      "108 general_info__econ_bitcoin_aggregator__V2Tone_4_8_hour 128\n",
      "55 general_info__econ_bitcoin_aggregator__V2Tone_3_8_hour 131\n",
      "107 general_info__econ_bitcoin_aggregator__V2Tone_2_24_hour 135\n",
      "43 general_info__econ_bitcoin_aggregator__V2Tone_5_7_days 151\n",
      "46 general_info__econ_bitcoin_aggregator__V2Tone_2_7_days 153\n",
      "94 general_info__econ_bitcoin_aggregator__V2Tone_6_7_days 154\n",
      "41 general_info__biggest_coin_streamer__XEMBTC 155\n",
      "90 general_info__econ_bitcoin_aggregator__V2Tone_1_7_days 162\n",
      "40 general_info__hash_rate_streamer_bitcoin__transaction_size_avereage 172\n",
      "54 general_info__biggest_coin_streamer__LENDBTC 173\n",
      "63 general_info__biggest_coin_streamer__CVCBTC 174\n",
      "61 general_info__events_aggregator__AvgTone_8_hour 182\n",
      "42 general_info__events_aggregator__GoldsteinScale_8_hour 187\n",
      "95 ETHBTC__general_info__ath_change_percentage 193\n",
      "33 BTC__events_aggregator__GoldsteinScale_8_hour 194\n",
      "22 general_info__econ_bitcoin_aggregator__count_24_hour 198\n",
      "112 general_info__biggest_coin_streamer__XLMBTC 210\n",
      "29 general_info__econ_bitcoin_aggregator__count_7_days 215\n",
      "17 BTC__events_aggregator__AvgTone_24_hour 237\n",
      "25 general_info__events_aggregator__NumArticles_24_hour 238\n",
      "45 general_info__events_aggregator__AvgTone_1_hour 241\n",
      "36 BTC__events_aggregator__NumArticles_24_hour 243\n",
      "69 BTC__events_aggregator__GoldsteinScale_7_days 247\n",
      "6 BTC__events_aggregator__NumArticles_7_days 248\n",
      "38 BTC__events_aggregator__count_8_hour 251\n",
      "13 general_info__events_aggregator__NumMentions_7_days 252\n",
      "102 general_info__events_aggregator__GoldsteinScale_7_days 254\n",
      "15 general_info__events_aggregator__GoldsteinScale_1_hour 255\n",
      "27 BTC__events_aggregator__NumMentions_7_days 256\n",
      "75 BTC__events_aggregator__AvgTone_7_days 258\n",
      "71 BTC__events_aggregator__GoldsteinScale_1_hour 259\n",
      "24 BTC__events_aggregator__AvgTone_1_hour 261\n",
      "91 general_info__biggest_coin_streamer__TCTBTC 263\n",
      "3 general_info__events_aggregator__NumMentions_1_hour 266\n",
      "28 general_info__events_aggregator__count_1_hour 272\n",
      "60 BTC__events_aggregator__count_1_hour 279\n",
      "12 BTC__events_aggregator__NumSources_7_days 289\n",
      "47 ETH__events_aggregator__AvgTone_7_days 313\n",
      "7 ETH__events_aggregator__NumArticles_24_hour 317\n",
      "66 ETH__events_aggregator__GoldsteinScale_24_hour 318\n",
      "18 general_info__stock_exchange_index__MERVAL 322\n",
      "64 ETH__events_aggregator__NumMentions_8_hour 324\n",
      "80 ETH__events_aggregator__count_24_hour 326\n",
      "35 ETH__events_aggregator__AvgTone_8_hour 330\n",
      "2 ETH__events_aggregator__NumMentions_1_hour 336\n",
      "87 ETH__events_aggregator__GoldsteinScale_1_hour 337\n",
      "21 ETH__events_aggregator__count_1_hour 338\n",
      "81 ETH__events_aggregator__NumSources_7_days 343\n",
      "115\n"
     ]
    }
   ],
   "source": [
    "final_rf_rfe = combine_ranking_with_clustering(dataframe_best_greedy, 'rf_rfe', rf_rfe_Ranking)\n",
    "print(len(final_rf_rfe))"
   ]
  },
  {
   "cell_type": "code",
   "execution_count": 60,
   "metadata": {},
   "outputs": [],
   "source": [
    "final_columns_rf_rfe = RF_RFE[~RF_RFE['var'].isin(final_rf_rfe) == False]\n",
    "    "
   ]
  },
  {
   "cell_type": "code",
   "execution_count": 61,
   "metadata": {
    "scrolled": true
   },
   "outputs": [],
   "source": [
    "final_columns_rf_rfe = final_columns_rf_rfe.reset_index(drop=True)"
   ]
  },
  {
   "cell_type": "code",
   "execution_count": 63,
   "metadata": {},
   "outputs": [],
   "source": [
    "# final_columns_rf_rfe.to_csv(r'results/Combining/final_columns_rf_rfe.csv', index = False)"
   ]
  },
  {
   "cell_type": "markdown",
   "metadata": {},
   "source": [
    "#### Boruta"
   ]
  },
  {
   "cell_type": "code",
   "execution_count": 129,
   "metadata": {
    "collapsed": true
   },
   "outputs": [
    {
     "name": "stdout",
     "output_type": "stream",
     "text": [
      "89 ETHBTC__technical_analysis_candles__rsi 1\n",
      "5 ETHBTC__ticker_info__taker_buy_asset_volume 2\n",
      "19 ETHBTC__technical_analysis_candles__macdhist 4\n",
      "32 ETHBTC__ticker_info__number_trades 7\n",
      "11 ETHBTC__technical_analysis_candles__macd 8\n",
      "79 ETHBTC__ticker_info__askQty 10\n",
      "1 ETHBTC__ticker_info__open 11\n",
      "62 general_info__biggest_coin_streamer__ENJBTC 13\n",
      "74 general_info__biggest_coin_streamer__ETHBTC 14\n",
      "101 general_info__biggest_coin_streamer__XTZUSDT 19\n",
      "93 general_info__biggest_coin_streamer__LINKUSDT 20\n",
      "114 general_info__biggest_coin_streamer__ETCBTC 22\n",
      "97 general_info__biggest_coin_streamer__AIONBTC 25\n",
      "105 general_info__exchange_info__Lumens 29\n",
      "109 general_info__biggest_coin_streamer__ETCUSDT 34\n",
      "104 general_info__exchange_info__XRP 36\n",
      "77 general_info__biggest_coin_streamer__XMRBTC 38\n",
      "111 general_info__biggest_coin_streamer__NEBLBTC 43\n",
      "99 general_info__biggest_coin_streamer__XRPBTC 48\n",
      "4 general_info__biggest_coin_streamer__EOSBTC 51\n",
      "92 general_info__exchange_info__Bitcoin_Cash 55\n",
      "86 general_info__econ_bitcoin_aggregator__V2Tone_3_7_days 56\n",
      "103 ETHBTC__ticker_info__bidQty 62\n",
      "76 general_info__biggest_coin_streamer__BCHBTC 66\n",
      "90 general_info__econ_bitcoin_aggregator__V2Tone_4_7_days 67\n",
      "84 general_info__biggest_coin_streamer__IOTABTC 70\n",
      "98 general_info__exchange_info__Litecoin 74\n",
      "49 general_info__biggest_coin_streamer__MATICBTC 75\n",
      "40 general_info__hash_rate_streamer_bitcoin__transaction_size_avereage 78\n",
      "112 general_info__biggest_coin_streamer__ADABTC 82\n",
      "30 ETHBTC__general_info__total_volume 83\n",
      "95 ETHBTC__general_info__ath_change_percentage 97\n",
      "70 general_info__biggest_coin_streamer__DGDETH 98\n",
      "113 general_info__econ_bitcoin_aggregator__V2Tone_5_24_hour 102\n",
      "8 general_info__biggest_coin_streamer__GNTBTC 105\n",
      "43 general_info__econ_bitcoin_aggregator__V2Tone_5_7_days 123\n",
      "29 general_info__econ_bitcoin_aggregator__count_7_days 132\n",
      "72 general_info__hash_rate_streamer_bitcoin__time_between_blocks 148\n",
      "56 ETHBTC__general_info__high_24h 158\n",
      "23 ETHBTC__general_info__price_change_24h 164\n",
      "41 general_info__biggest_coin_streamer__XEMBTC 165\n",
      "34 general_info__biggest_coin_streamer__WAVESBTC 169\n",
      "94 general_info__econ_bitcoin_aggregator__V2Tone_6_7_days 171\n",
      "75 BTC__events_aggregator__AvgTone_7_days 174\n",
      "69 BTC__events_aggregator__GoldsteinScale_7_days 178\n",
      "91 general_info__biggest_coin_streamer__TCTBTC 184\n",
      "55 general_info__econ_bitcoin_aggregator__V2Tone_3_24_hour 185\n",
      "27 BTC__events_aggregator__NumMentions_7_days 197\n",
      "102 general_info__events_aggregator__GoldsteinScale_7_days 206\n",
      "54 general_info__biggest_coin_streamer__LENDBTC 213\n",
      "26 general_info__hash_rate_streamer_bitcoin__btc_sent_24 214\n",
      "108 general_info__econ_bitcoin_aggregator__V2Tone_4_8_hour 215\n",
      "22 general_info__econ_bitcoin_aggregator__count_24_hour 217\n",
      "63 general_info__biggest_coin_streamer__CVCBTC 218\n",
      "39 general_info__hash_rate_ethereum__difficulty 219\n",
      "78 general_info__stock_exchange_index__SSE_Composite_Index 224\n",
      "12 BTC__events_aggregator__NumSources_7_days 225\n",
      "110 general_info__econ_bitcoin_aggregator__V2Tone_6_8_hour 226\n",
      "88 ETH__events_aggregator__GoldsteinScale_7_days 229\n",
      "64 ETH__events_aggregator__NumMentions_8_hour 231\n",
      "13 general_info__events_aggregator__NumMentions_7_days 232\n",
      "25 general_info__events_aggregator__NumMentions_24_hour 233\n",
      "83 general_info__econ_bitcoin_aggregator__count_8_hour 234\n",
      "46 general_info__econ_bitcoin_aggregator__V2Tone_2_7_days 236\n",
      "48 general_info__econ_bitcoin_aggregator__V2Tone_1_24_hour 237\n",
      "107 general_info__events_aggregator__AvgTone_7_days 239\n",
      "6 BTC__events_aggregator__NumArticles_7_days 241\n",
      "58 general_info__twitter_info_aggregated__count 244\n",
      "7 ETH__events_aggregator__NumArticles_24_hour 245\n",
      "61 general_info__events_aggregator__AvgTone_8_hour 246\n",
      "14 general_info__econ_bitcoin_aggregator__V2Tone_2_8_hour 247\n",
      "96 ETH__events_aggregator__NumArticles_7_days 248\n",
      "65 BTC__events_aggregator__count_24_hour 250\n",
      "60 ETH__events_aggregator__NumMentions_7_days 251\n",
      "82 general_info__econ_bitcoin_aggregator__count_1_hour 254\n",
      "66 ETH__events_aggregator__GoldsteinScale_24_hour 257\n",
      "36 BTC__events_aggregator__NumArticles_24_hour 258\n",
      "47 ETH__events_aggregator__AvgTone_7_days 259\n",
      "16 general_info__econ_bitcoin_aggregator__V2Tone_1_8_hour 261\n",
      "18 general_info__stock_exchange_index__MERVAL 266\n",
      "35 ETH__events_aggregator__AvgTone_8_hour 269\n",
      "53 BTC__twitter_info_aggregated__count 270\n",
      "17 BTC__events_aggregator__AvgTone_24_hour 275\n",
      "42 general_info__events_aggregator__GoldsteinScale_8_hour 281\n",
      "9 BTC__twitter_info_aggregated__polarity_uncleaned 285\n",
      "100 BTC__twitter_info_aggregated__relative_subjectivity_friends 287\n",
      "20 general_info__hash_rate_streamer_bitcoin__unconfirmed_count 289\n",
      "73 ETH__twitter_info_aggregated__total_followers 293\n",
      "0 general_info__twitter_info_aggregated__total_followers 294\n",
      "85 ETH__twitter_info_aggregated__relative_polarity_followers 295\n",
      "38 BTC__events_aggregator__count_8_hour 299\n",
      "31 general_info__hash_rate_ethereum__gasUsed 301\n",
      "80 ETH__events_aggregator__count_24_hour 302\n",
      "51 ETH__twitter_info_aggregated__polarity_self_cleaned 303\n",
      "33 BTC__events_aggregator__GoldsteinScale_8_hour 304\n",
      "106 general_info__econ_bitcoin_aggregator__V2Tone_1_1_hour 305\n",
      "15 general_info__events_aggregator__GoldsteinScale_1_hour 307\n",
      "10 ETH__twitter_info_aggregated__relative_subjectivity_followers 309\n",
      "21 ETH__events_aggregator__count_1_hour 310\n",
      "2 ETH__events_aggregator__NumSources_1_hour 314\n",
      "68 ETH__twitter_info_aggregated__relative_polarity_friends 316\n",
      "71 BTC__events_aggregator__GoldsteinScale_1_hour 319\n",
      "37 general_info__twitter_info_aggregated__relative_polarity_friends 321\n",
      "24 BTC__events_aggregator__AvgTone_1_hour 322\n",
      "67 ETH__twitter_info_aggregated__relative_subjectivity_friends 323\n",
      "3 general_info__events_aggregator__NumArticles_1_hour 325\n",
      "52 general_info__twitter_info_aggregated__relative_subjectivity_followers 326\n",
      "59 general_info__twitter_info_aggregated__relative_polarity_followers 328\n",
      "87 ETH__events_aggregator__GoldsteinScale_1_hour 330\n",
      "44 general_info__twitter_info_aggregated__total_friends 332\n",
      "50 BTC__twitter_info_aggregated__total_followers 335\n",
      "45 general_info__events_aggregator__AvgTone_1_hour 336\n",
      "57 BTC__twitter_info_aggregated__relative_subjectivity_followers 337\n",
      "28 general_info__events_aggregator__count_1_hour 341\n",
      "81 ETH__events_aggregator__NumSources_7_days 343\n",
      "115\n"
     ]
    }
   ],
   "source": [
    "final_boruta = combine_ranking_with_clustering(dataframe_best_greedy, 'Boruta', Boruta_Ranking)\n",
    "print(len(final_boruta))"
   ]
  },
  {
   "cell_type": "code",
   "execution_count": 130,
   "metadata": {},
   "outputs": [],
   "source": [
    "final_columns_boruta = Boruta[~Boruta['var'].isin(final_boruta) == False]"
   ]
  },
  {
   "cell_type": "code",
   "execution_count": 132,
   "metadata": {},
   "outputs": [],
   "source": [
    "final_columns_boruta = final_columns_boruta.reset_index(drop=True)"
   ]
  },
  {
   "cell_type": "code",
   "execution_count": 134,
   "metadata": {},
   "outputs": [],
   "source": [
    "# final_columns_boruta.to_csv(r'results/Combining/final_columns_boruta.csv', index = False)"
   ]
  },
  {
   "cell_type": "markdown",
   "metadata": {},
   "source": [
    "#### XGBoost"
   ]
  },
  {
   "cell_type": "code",
   "execution_count": 70,
   "metadata": {
    "collapsed": true
   },
   "outputs": [
    {
     "name": "stdout",
     "output_type": "stream",
     "text": [
      "89 ETHBTC__technical_analysis_candles__rsi 1\n",
      "19 ETHBTC__technical_analysis_candles__macdhist 2\n",
      "11 ETHBTC__technical_analysis_candles__macd 3\n",
      "1 ETHBTC__ticker_info__open 4\n",
      "103 ETHBTC__ticker_info__bidQty 6\n",
      "79 ETHBTC__ticker_info__askQty 7\n",
      "10 ETH__twitter_info_aggregated__relative_subjectivity_followers 8\n",
      "48 BTC__twitter_info_aggregated__relative_polarity_followers 9\n",
      "67 ETH__twitter_info_aggregated__relative_subjectivity_friends 10\n",
      "57 BTC__twitter_info_aggregated__relative_subjectivity_followers 11\n",
      "73 ETH__twitter_info_aggregated__total_followers 12\n",
      "85 ETH__twitter_info_aggregated__relative_polarity_followers 13\n",
      "52 general_info__twitter_info_aggregated__relative_subjectivity_followers 14\n",
      "59 general_info__twitter_info_aggregated__relative_polarity_followers 15\n",
      "31 general_info__hash_rate_ethereum__gasUsed 16\n",
      "100 BTC__twitter_info_aggregated__relative_subjectivity_friends 17\n",
      "56 general_info__hash_rate_ethereum__gasLimit 18\n",
      "51 ETH__twitter_info_aggregated__polarity_self_cleaned 19\n",
      "8 ETH__twitter_info_aggregated__total_friends 20\n",
      "0 general_info__twitter_info_aggregated__total_followers 21\n",
      "32 ETHBTC__ticker_info__number_trades 22\n",
      "76 BTC__twitter_info_aggregated__relative_polarity_friends 23\n",
      "5 ETHBTC__ticker_info__taker_buy_asset_volume 24\n",
      "37 general_info__twitter_info_aggregated__relative_polarity_friends 25\n",
      "86 general_info__twitter_info_aggregated__relative_subjectivity_friends 26\n",
      "78 general_info__twitter_info_aggregated__polarity_self_cleaned 27\n",
      "50 BTC__twitter_info_aggregated__total_followers 29\n",
      "9 BTC__twitter_info_aggregated__polarity_uncleaned 31\n",
      "83 BTC__twitter_info_aggregated__total_friends 32\n",
      "88 ETH__twitter_info_aggregated__polarity_uncleaned 34\n",
      "68 ETH__twitter_info_aggregated__relative_polarity_friends 35\n",
      "44 general_info__twitter_info_aggregated__total_friends 36\n",
      "65 general_info__hash_rate_ethereum__size 39\n",
      "53 BTC__twitter_info_aggregated__count 42\n",
      "20 general_info__hash_rate_streamer_bitcoin__unconfirmed_count 43\n",
      "58 general_info__twitter_info_aggregated__count 44\n",
      "96 ETH__twitter_info_aggregated__count 45\n",
      "109 general_info__econ_bitcoin_aggregator__V2Tone_5_1_hour 46\n",
      "30 general_info__econ_bitcoin_aggregator__V2Tone_6_1_hour 47\n",
      "39 general_info__hash_rate_ethereum__difficulty 48\n",
      "74 general_info__biggest_coin_streamer__ETHBTC 49\n",
      "82 general_info__econ_bitcoin_aggregator__V2Tone_2_1_hour 50\n",
      "72 general_info__hash_rate_streamer_bitcoin__time_between_blocks 51\n",
      "26 general_info__hash_rate_streamer_bitcoin__btc_sent_24 52\n",
      "113 general_info__econ_bitcoin_aggregator__V2Tone_4_1_hour 53\n",
      "110 general_info__econ_bitcoin_aggregator__V2Tone_6_8_hour 54\n",
      "106 general_info__econ_bitcoin_aggregator__V2Tone_1_1_hour 55\n",
      "93 general_info__biggest_coin_streamer__MATICUSDT 59\n",
      "111 general_info__econ_bitcoin_aggregator__V2Tone_6_24_hour 61\n",
      "14 general_info__econ_bitcoin_aggregator__V2Tone_2_8_hour 63\n",
      "107 general_info__econ_bitcoin_aggregator__V2Tone_2_24_hour 64\n",
      "33 BTC__events_aggregator__GoldsteinScale_8_hour 67\n",
      "49 BTC__events_aggregator__AvgTone_8_hour 68\n",
      "34 general_info__biggest_coin_streamer__WAVESBTC 69\n",
      "42 general_info__events_aggregator__GoldsteinScale_8_hour 70\n",
      "97 general_info__biggest_coin_streamer__AIONBTC 72\n",
      "108 general_info__econ_bitcoin_aggregator__V2Tone_4_8_hour 73\n",
      "46 general_info__econ_bitcoin_aggregator__V2Tone_2_7_days 74\n",
      "16 general_info__econ_bitcoin_aggregator__V2Tone_1_8_hour 75\n",
      "61 general_info__events_aggregator__AvgTone_8_hour 76\n",
      "23 ETHBTC__general_info__price_change_24h 78\n",
      "43 general_info__econ_bitcoin_aggregator__V2Tone_5_7_days 79\n",
      "90 general_info__events_aggregator__AvgTone_24_hour 81\n",
      "92 general_info__events_aggregator__GoldsteinScale_24_hour 82\n",
      "70 general_info__biggest_coin_streamer__DGDETH 83\n",
      "114 BTC__events_aggregator__NumArticles_8_hour 84\n",
      "95 general_info__events_aggregator__NumArticles_8_hour 85\n",
      "55 general_info__econ_bitcoin_aggregator__V2Tone_3_8_hour 86\n",
      "101 general_info__biggest_coin_streamer__XTZUSDT 87\n",
      "17 BTC__events_aggregator__AvgTone_24_hour 90\n",
      "40 general_info__hash_rate_streamer_bitcoin__transaction_size_avereage 91\n",
      "54 general_info__biggest_coin_streamer__LENDBTC 92\n",
      "94 general_info__econ_bitcoin_aggregator__V2Tone_6_7_days 95\n",
      "62 general_info__biggest_coin_streamer__ENJBTC 103\n",
      "98 general_info__biggest_coin_streamer__PAXUSDT 106\n",
      "25 general_info__events_aggregator__NumArticles_24_hour 109\n",
      "36 BTC__events_aggregator__NumArticles_24_hour 111\n",
      "63 general_info__biggest_coin_streamer__CVCBTC 116\n",
      "22 general_info__econ_bitcoin_aggregator__count_24_hour 119\n",
      "77 general_info__events_aggregator__count_8_hour 120\n",
      "38 BTC__events_aggregator__count_8_hour 122\n",
      "45 general_info__events_aggregator__AvgTone_1_hour 124\n",
      "69 general_info__events_aggregator__count_24_hour 129\n",
      "112 BTC__events_aggregator__NumMentions_24_hour 134\n",
      "6 BTC__events_aggregator__NumArticles_7_days 135\n",
      "75 BTC__events_aggregator__AvgTone_7_days 140\n",
      "71 BTC__events_aggregator__GoldsteinScale_1_hour 141\n",
      "104 general_info__exchange_info__XRP 144\n",
      "15 general_info__events_aggregator__GoldsteinScale_1_hour 147\n",
      "84 general_info__biggest_coin_streamer__IOTABTC 151\n",
      "3 general_info__events_aggregator__NumArticles_1_hour 153\n",
      "27 BTC__events_aggregator__NumMentions_7_days 156\n",
      "105 general_info__exchange_info__Lumens 158\n",
      "102 general_info__events_aggregator__GoldsteinScale_7_days 159\n",
      "13 general_info__events_aggregator__NumMentions_7_days 162\n",
      "24 BTC__events_aggregator__AvgTone_1_hour 164\n",
      "4 general_info__biggest_coin_streamer__EOSBTC 166\n",
      "41 general_info__biggest_coin_streamer__XEMBTC 170\n",
      "99 general_info__biggest_coin_streamer__XRPBTC 171\n",
      "12 BTC__events_aggregator__NumSources_7_days 176\n",
      "29 general_info__econ_bitcoin_aggregator__count_7_days 177\n",
      "91 BTC__events_aggregator__count_7_days 179\n",
      "28 general_info__events_aggregator__count_1_hour 189\n",
      "47 ETH__events_aggregator__AvgTone_7_days 197\n",
      "60 BTC__events_aggregator__count_1_hour 198\n",
      "66 ETH__events_aggregator__GoldsteinScale_24_hour 237\n",
      "35 ETH__events_aggregator__AvgTone_8_hour 257\n",
      "7 ETH__events_aggregator__NumArticles_24_hour 260\n",
      "80 ETH__events_aggregator__count_24_hour 290\n",
      "18 general_info__stock_exchange_index__MERVAL 305\n",
      "64 ETH__events_aggregator__NumArticles_8_hour 313\n",
      "2 ETH__events_aggregator__NumArticles_1_hour 330\n",
      "87 ETH__events_aggregator__GoldsteinScale_1_hour 332\n",
      "81 ETH__events_aggregator__NumSources_7_days 340\n",
      "21 ETH__events_aggregator__count_1_hour 341\n"
     ]
    }
   ],
   "source": [
    "final_XGBoost = combine_ranking_with_clustering(dataframe_best_greedy, 'XGBoost2', XGBoost_ranking)"
   ]
  },
  {
   "cell_type": "code",
   "execution_count": 74,
   "metadata": {},
   "outputs": [],
   "source": [
    "final_columns_XGBoost = XGBoost[~XGBoost['var'].isin(final_XGBoost) == False]"
   ]
  },
  {
   "cell_type": "code",
   "execution_count": 76,
   "metadata": {},
   "outputs": [],
   "source": [
    "final_columns_XGBoost = final_columns_XGBoost.reset_index(drop=True)"
   ]
  },
  {
   "cell_type": "code",
   "execution_count": 77,
   "metadata": {},
   "outputs": [],
   "source": [
    "# final_columns_XGBoost.to_csv(r'results/Combining/final_columns_XGBoost.csv', index = False)"
   ]
  }
 ],
 "metadata": {
  "kernelspec": {
   "display_name": "Python 3",
   "language": "python",
   "name": "python3"
  },
  "language_info": {
   "codemirror_mode": {
    "name": "ipython",
    "version": 3
   },
   "file_extension": ".py",
   "mimetype": "text/x-python",
   "name": "python",
   "nbconvert_exporter": "python",
   "pygments_lexer": "ipython3",
   "version": "3.7.6"
  }
 },
 "nbformat": 4,
 "nbformat_minor": 4
}
